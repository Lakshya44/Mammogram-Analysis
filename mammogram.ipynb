{
 "metadata": {
  "language_info": {
   "codemirror_mode": {
    "name": "ipython",
    "version": 3
   },
   "file_extension": ".py",
   "mimetype": "text/x-python",
   "name": "python",
   "nbconvert_exporter": "python",
   "pygments_lexer": "ipython3",
   "version": "3.8.2-final"
  },
  "orig_nbformat": 2,
  "kernelspec": {
   "name": "python38264bit8724504d86054a8fac6109926f16fdb4",
   "display_name": "Python 3.8.2 64-bit"
  }
 },
 "nbformat": 4,
 "nbformat_minor": 2,
 "cells": [
  {
   "cell_type": "code",
   "execution_count": 1,
   "metadata": {},
   "outputs": [],
   "source": [
    "import pandas as pd\n",
    "import numpy as np\n",
    "from sklearn.model_selection import train_test_split\n",
    "from sklearn.linear_model import LogisticRegression\n",
    "from sklearn.preprocessing import StandardScaler\n",
    "from sklearn.metrics import accuracy_score\n",
    "from sklearn.neighbors import KNeighborsClassifier\n",
    "from sklearn.svm import SVC\n",
    "from sklearn.tree import DecisionTreeClassifier\n",
    "from sklearn.ensemble import RandomForestClassifier\n",
    "from sklearn.naive_bayes import GaussianNB\n",
    "from keras import Sequential\n",
    "from keras.layers import Dense"
   ]
  },
  {
   "cell_type": "code",
   "execution_count": 2,
   "metadata": {},
   "outputs": [
    {
     "output_type": "execute_result",
     "data": {
      "text/plain": "   5  67  3 5.1 3.1  1\n0  4  43  1   1   ?  1\n1  5  58  4   5   3  1\n2  4  28  1   1   3  0\n3  5  74  1   5   ?  1\n4  4  65  1   ?   3  0\n5  4  70  ?   ?   3  0\n6  5  42  1   ?   3  0\n7  5  57  1   5   3  1\n8  5  60  ?   5   1  1\n9  5  76  1   4   3  1",
      "text/html": "<div>\n<style scoped>\n    .dataframe tbody tr th:only-of-type {\n        vertical-align: middle;\n    }\n\n    .dataframe tbody tr th {\n        vertical-align: top;\n    }\n\n    .dataframe thead th {\n        text-align: right;\n    }\n</style>\n<table border=\"1\" class=\"dataframe\">\n  <thead>\n    <tr style=\"text-align: right;\">\n      <th></th>\n      <th>5</th>\n      <th>67</th>\n      <th>3</th>\n      <th>5.1</th>\n      <th>3.1</th>\n      <th>1</th>\n    </tr>\n  </thead>\n  <tbody>\n    <tr>\n      <th>0</th>\n      <td>4</td>\n      <td>43</td>\n      <td>1</td>\n      <td>1</td>\n      <td>?</td>\n      <td>1</td>\n    </tr>\n    <tr>\n      <th>1</th>\n      <td>5</td>\n      <td>58</td>\n      <td>4</td>\n      <td>5</td>\n      <td>3</td>\n      <td>1</td>\n    </tr>\n    <tr>\n      <th>2</th>\n      <td>4</td>\n      <td>28</td>\n      <td>1</td>\n      <td>1</td>\n      <td>3</td>\n      <td>0</td>\n    </tr>\n    <tr>\n      <th>3</th>\n      <td>5</td>\n      <td>74</td>\n      <td>1</td>\n      <td>5</td>\n      <td>?</td>\n      <td>1</td>\n    </tr>\n    <tr>\n      <th>4</th>\n      <td>4</td>\n      <td>65</td>\n      <td>1</td>\n      <td>?</td>\n      <td>3</td>\n      <td>0</td>\n    </tr>\n    <tr>\n      <th>5</th>\n      <td>4</td>\n      <td>70</td>\n      <td>?</td>\n      <td>?</td>\n      <td>3</td>\n      <td>0</td>\n    </tr>\n    <tr>\n      <th>6</th>\n      <td>5</td>\n      <td>42</td>\n      <td>1</td>\n      <td>?</td>\n      <td>3</td>\n      <td>0</td>\n    </tr>\n    <tr>\n      <th>7</th>\n      <td>5</td>\n      <td>57</td>\n      <td>1</td>\n      <td>5</td>\n      <td>3</td>\n      <td>1</td>\n    </tr>\n    <tr>\n      <th>8</th>\n      <td>5</td>\n      <td>60</td>\n      <td>?</td>\n      <td>5</td>\n      <td>1</td>\n      <td>1</td>\n    </tr>\n    <tr>\n      <th>9</th>\n      <td>5</td>\n      <td>76</td>\n      <td>1</td>\n      <td>4</td>\n      <td>3</td>\n      <td>1</td>\n    </tr>\n  </tbody>\n</table>\n</div>"
     },
     "metadata": {},
     "execution_count": 2
    }
   ],
   "source": [
    "# read the dataset\n",
    "data = pd.read_csv('Data_Sets/mammographic_masses.data')\n",
    "data.head(10)"
   ]
  },
  {
   "cell_type": "code",
   "execution_count": 3,
   "metadata": {
    "tags": []
   },
   "outputs": [
    {
     "output_type": "execute_result",
     "data": {
      "text/plain": "  BI_RADS age shape margin density  severity\n0       4  43     1      1       ?         1\n1       5  58     4      5       3         1\n2       4  28     1      1       3         0\n3       5  74     1      5       ?         1\n4       4  65     1      ?       3         0",
      "text/html": "<div>\n<style scoped>\n    .dataframe tbody tr th:only-of-type {\n        vertical-align: middle;\n    }\n\n    .dataframe tbody tr th {\n        vertical-align: top;\n    }\n\n    .dataframe thead th {\n        text-align: right;\n    }\n</style>\n<table border=\"1\" class=\"dataframe\">\n  <thead>\n    <tr style=\"text-align: right;\">\n      <th></th>\n      <th>BI_RADS</th>\n      <th>age</th>\n      <th>shape</th>\n      <th>margin</th>\n      <th>density</th>\n      <th>severity</th>\n    </tr>\n  </thead>\n  <tbody>\n    <tr>\n      <th>0</th>\n      <td>4</td>\n      <td>43</td>\n      <td>1</td>\n      <td>1</td>\n      <td>?</td>\n      <td>1</td>\n    </tr>\n    <tr>\n      <th>1</th>\n      <td>5</td>\n      <td>58</td>\n      <td>4</td>\n      <td>5</td>\n      <td>3</td>\n      <td>1</td>\n    </tr>\n    <tr>\n      <th>2</th>\n      <td>4</td>\n      <td>28</td>\n      <td>1</td>\n      <td>1</td>\n      <td>3</td>\n      <td>0</td>\n    </tr>\n    <tr>\n      <th>3</th>\n      <td>5</td>\n      <td>74</td>\n      <td>1</td>\n      <td>5</td>\n      <td>?</td>\n      <td>1</td>\n    </tr>\n    <tr>\n      <th>4</th>\n      <td>4</td>\n      <td>65</td>\n      <td>1</td>\n      <td>?</td>\n      <td>3</td>\n      <td>0</td>\n    </tr>\n  </tbody>\n</table>\n</div>"
     },
     "metadata": {},
     "execution_count": 3
    }
   ],
   "source": [
    "# change the column names\n",
    "data = pd.DataFrame(data)\n",
    "data.columns = ['BI_RADS','age','shape','margin','density','severity']\n",
    "data.head()"
   ]
  },
  {
   "cell_type": "code",
   "execution_count": 4,
   "metadata": {
    "tags": []
   },
   "outputs": [
    {
     "output_type": "execute_result",
     "data": {
      "text/plain": "  BI_RADS age shape margin density  severity\n0       4  43     1      1     NaN         1\n1       5  58     4      5       3         1\n2       4  28     1      1       3         0\n3       5  74     1      5     NaN         1\n4       4  65     1    NaN       3         0",
      "text/html": "<div>\n<style scoped>\n    .dataframe tbody tr th:only-of-type {\n        vertical-align: middle;\n    }\n\n    .dataframe tbody tr th {\n        vertical-align: top;\n    }\n\n    .dataframe thead th {\n        text-align: right;\n    }\n</style>\n<table border=\"1\" class=\"dataframe\">\n  <thead>\n    <tr style=\"text-align: right;\">\n      <th></th>\n      <th>BI_RADS</th>\n      <th>age</th>\n      <th>shape</th>\n      <th>margin</th>\n      <th>density</th>\n      <th>severity</th>\n    </tr>\n  </thead>\n  <tbody>\n    <tr>\n      <th>0</th>\n      <td>4</td>\n      <td>43</td>\n      <td>1</td>\n      <td>1</td>\n      <td>NaN</td>\n      <td>1</td>\n    </tr>\n    <tr>\n      <th>1</th>\n      <td>5</td>\n      <td>58</td>\n      <td>4</td>\n      <td>5</td>\n      <td>3</td>\n      <td>1</td>\n    </tr>\n    <tr>\n      <th>2</th>\n      <td>4</td>\n      <td>28</td>\n      <td>1</td>\n      <td>1</td>\n      <td>3</td>\n      <td>0</td>\n    </tr>\n    <tr>\n      <th>3</th>\n      <td>5</td>\n      <td>74</td>\n      <td>1</td>\n      <td>5</td>\n      <td>NaN</td>\n      <td>1</td>\n    </tr>\n    <tr>\n      <th>4</th>\n      <td>4</td>\n      <td>65</td>\n      <td>1</td>\n      <td>NaN</td>\n      <td>3</td>\n      <td>0</td>\n    </tr>\n  </tbody>\n</table>\n</div>"
     },
     "metadata": {},
     "execution_count": 4
    }
   ],
   "source": [
    "# replace all question marks with NaN\n",
    "data = data.replace('?',np.nan)\n",
    "data.head()"
   ]
  },
  {
   "cell_type": "code",
   "execution_count": 5,
   "metadata": {
    "tags": []
   },
   "outputs": [
    {
     "output_type": "execute_result",
     "data": {
      "text/plain": "BI_RADS      2\nage          5\nshape       31\nmargin      48\ndensity     76\nseverity     0\ndtype: int64"
     },
     "metadata": {},
     "execution_count": 5
    }
   ],
   "source": [
    "# checking the null values in each column\n",
    "data = data.astype(float)\n",
    "data.isnull().sum()"
   ]
  },
  {
   "cell_type": "code",
   "execution_count": 6,
   "metadata": {},
   "outputs": [
    {
     "output_type": "execute_result",
     "data": {
      "text/plain": "   BI_RADS  age  shape  margin  density  severity\n0        4   43      1       1        2         1\n1        5   58      4       5        3         1\n2        4   28      1       1        3         0\n3        5   74      1       5        2         1\n4        4   65      1       2        3         0\n5        4   70      2       2        3         0\n6        5   42      1       2        3         0\n7        5   57      1       5        3         1\n8        5   60      2       5        1         1\n9        5   76      1       4        3         1",
      "text/html": "<div>\n<style scoped>\n    .dataframe tbody tr th:only-of-type {\n        vertical-align: middle;\n    }\n\n    .dataframe tbody tr th {\n        vertical-align: top;\n    }\n\n    .dataframe thead th {\n        text-align: right;\n    }\n</style>\n<table border=\"1\" class=\"dataframe\">\n  <thead>\n    <tr style=\"text-align: right;\">\n      <th></th>\n      <th>BI_RADS</th>\n      <th>age</th>\n      <th>shape</th>\n      <th>margin</th>\n      <th>density</th>\n      <th>severity</th>\n    </tr>\n  </thead>\n  <tbody>\n    <tr>\n      <th>0</th>\n      <td>4</td>\n      <td>43</td>\n      <td>1</td>\n      <td>1</td>\n      <td>2</td>\n      <td>1</td>\n    </tr>\n    <tr>\n      <th>1</th>\n      <td>5</td>\n      <td>58</td>\n      <td>4</td>\n      <td>5</td>\n      <td>3</td>\n      <td>1</td>\n    </tr>\n    <tr>\n      <th>2</th>\n      <td>4</td>\n      <td>28</td>\n      <td>1</td>\n      <td>1</td>\n      <td>3</td>\n      <td>0</td>\n    </tr>\n    <tr>\n      <th>3</th>\n      <td>5</td>\n      <td>74</td>\n      <td>1</td>\n      <td>5</td>\n      <td>2</td>\n      <td>1</td>\n    </tr>\n    <tr>\n      <th>4</th>\n      <td>4</td>\n      <td>65</td>\n      <td>1</td>\n      <td>2</td>\n      <td>3</td>\n      <td>0</td>\n    </tr>\n    <tr>\n      <th>5</th>\n      <td>4</td>\n      <td>70</td>\n      <td>2</td>\n      <td>2</td>\n      <td>3</td>\n      <td>0</td>\n    </tr>\n    <tr>\n      <th>6</th>\n      <td>5</td>\n      <td>42</td>\n      <td>1</td>\n      <td>2</td>\n      <td>3</td>\n      <td>0</td>\n    </tr>\n    <tr>\n      <th>7</th>\n      <td>5</td>\n      <td>57</td>\n      <td>1</td>\n      <td>5</td>\n      <td>3</td>\n      <td>1</td>\n    </tr>\n    <tr>\n      <th>8</th>\n      <td>5</td>\n      <td>60</td>\n      <td>2</td>\n      <td>5</td>\n      <td>1</td>\n      <td>1</td>\n    </tr>\n    <tr>\n      <th>9</th>\n      <td>5</td>\n      <td>76</td>\n      <td>1</td>\n      <td>4</td>\n      <td>3</td>\n      <td>1</td>\n    </tr>\n  </tbody>\n</table>\n</div>"
     },
     "metadata": {},
     "execution_count": 6
    }
   ],
   "source": [
    "# replacing the null values with mean of columns\n",
    "data = data.apply(lambda x: x.fillna(x.mean()),axis=0)\n",
    "data = data.astype(int)\n",
    "data.head(10)"
   ]
  },
  {
   "cell_type": "code",
   "execution_count": 7,
   "metadata": {},
   "outputs": [
    {
     "output_type": "execute_result",
     "data": {
      "text/plain": "BI_RADS     0\nage         0\nshape       0\nmargin      0\ndensity     0\nseverity    0\ndtype: int64"
     },
     "metadata": {},
     "execution_count": 7
    }
   ],
   "source": [
    "data.isnull().sum()"
   ]
  },
  {
   "cell_type": "code",
   "execution_count": 8,
   "metadata": {},
   "outputs": [
    {
     "output_type": "execute_result",
     "data": {
      "text/plain": "   age  shape  margin  density  severity\n0   43      1       1        2         1\n1   58      4       5        3         1\n2   28      1       1        3         0\n3   74      1       5        2         1\n4   65      1       2        3         0\n5   70      2       2        3         0\n6   42      1       2        3         0\n7   57      1       5        3         1\n8   60      2       5        1         1\n9   76      1       4        3         1",
      "text/html": "<div>\n<style scoped>\n    .dataframe tbody tr th:only-of-type {\n        vertical-align: middle;\n    }\n\n    .dataframe tbody tr th {\n        vertical-align: top;\n    }\n\n    .dataframe thead th {\n        text-align: right;\n    }\n</style>\n<table border=\"1\" class=\"dataframe\">\n  <thead>\n    <tr style=\"text-align: right;\">\n      <th></th>\n      <th>age</th>\n      <th>shape</th>\n      <th>margin</th>\n      <th>density</th>\n      <th>severity</th>\n    </tr>\n  </thead>\n  <tbody>\n    <tr>\n      <th>0</th>\n      <td>43</td>\n      <td>1</td>\n      <td>1</td>\n      <td>2</td>\n      <td>1</td>\n    </tr>\n    <tr>\n      <th>1</th>\n      <td>58</td>\n      <td>4</td>\n      <td>5</td>\n      <td>3</td>\n      <td>1</td>\n    </tr>\n    <tr>\n      <th>2</th>\n      <td>28</td>\n      <td>1</td>\n      <td>1</td>\n      <td>3</td>\n      <td>0</td>\n    </tr>\n    <tr>\n      <th>3</th>\n      <td>74</td>\n      <td>1</td>\n      <td>5</td>\n      <td>2</td>\n      <td>1</td>\n    </tr>\n    <tr>\n      <th>4</th>\n      <td>65</td>\n      <td>1</td>\n      <td>2</td>\n      <td>3</td>\n      <td>0</td>\n    </tr>\n    <tr>\n      <th>5</th>\n      <td>70</td>\n      <td>2</td>\n      <td>2</td>\n      <td>3</td>\n      <td>0</td>\n    </tr>\n    <tr>\n      <th>6</th>\n      <td>42</td>\n      <td>1</td>\n      <td>2</td>\n      <td>3</td>\n      <td>0</td>\n    </tr>\n    <tr>\n      <th>7</th>\n      <td>57</td>\n      <td>1</td>\n      <td>5</td>\n      <td>3</td>\n      <td>1</td>\n    </tr>\n    <tr>\n      <th>8</th>\n      <td>60</td>\n      <td>2</td>\n      <td>5</td>\n      <td>1</td>\n      <td>1</td>\n    </tr>\n    <tr>\n      <th>9</th>\n      <td>76</td>\n      <td>1</td>\n      <td>4</td>\n      <td>3</td>\n      <td>1</td>\n    </tr>\n  </tbody>\n</table>\n</div>"
     },
     "metadata": {},
     "execution_count": 8
    }
   ],
   "source": [
    "# dropping the BI_RADS column\n",
    "data.drop('BI_RADS',axis=1,inplace=True)\n",
    "data.head(10)"
   ]
  },
  {
   "cell_type": "code",
   "execution_count": 9,
   "metadata": {},
   "outputs": [
    {
     "output_type": "execute_result",
     "data": {
      "text/plain": "   2  3  4\n0  0  0  0\n1  0  0  1\n2  0  0  0\n3  0  0  0\n4  0  0  0\n5  1  0  0\n6  0  0  0\n7  0  0  0\n8  1  0  0\n9  0  0  0",
      "text/html": "<div>\n<style scoped>\n    .dataframe tbody tr th:only-of-type {\n        vertical-align: middle;\n    }\n\n    .dataframe tbody tr th {\n        vertical-align: top;\n    }\n\n    .dataframe thead th {\n        text-align: right;\n    }\n</style>\n<table border=\"1\" class=\"dataframe\">\n  <thead>\n    <tr style=\"text-align: right;\">\n      <th></th>\n      <th>2</th>\n      <th>3</th>\n      <th>4</th>\n    </tr>\n  </thead>\n  <tbody>\n    <tr>\n      <th>0</th>\n      <td>0</td>\n      <td>0</td>\n      <td>0</td>\n    </tr>\n    <tr>\n      <th>1</th>\n      <td>0</td>\n      <td>0</td>\n      <td>1</td>\n    </tr>\n    <tr>\n      <th>2</th>\n      <td>0</td>\n      <td>0</td>\n      <td>0</td>\n    </tr>\n    <tr>\n      <th>3</th>\n      <td>0</td>\n      <td>0</td>\n      <td>0</td>\n    </tr>\n    <tr>\n      <th>4</th>\n      <td>0</td>\n      <td>0</td>\n      <td>0</td>\n    </tr>\n    <tr>\n      <th>5</th>\n      <td>1</td>\n      <td>0</td>\n      <td>0</td>\n    </tr>\n    <tr>\n      <th>6</th>\n      <td>0</td>\n      <td>0</td>\n      <td>0</td>\n    </tr>\n    <tr>\n      <th>7</th>\n      <td>0</td>\n      <td>0</td>\n      <td>0</td>\n    </tr>\n    <tr>\n      <th>8</th>\n      <td>1</td>\n      <td>0</td>\n      <td>0</td>\n    </tr>\n    <tr>\n      <th>9</th>\n      <td>0</td>\n      <td>0</td>\n      <td>0</td>\n    </tr>\n  </tbody>\n</table>\n</div>"
     },
     "metadata": {},
     "execution_count": 9
    }
   ],
   "source": [
    "# encoding the categorical variable\n",
    "shape = pd.get_dummies(data['shape'],drop_first=True)\n",
    "shape.head(10)"
   ]
  },
  {
   "cell_type": "code",
   "execution_count": 10,
   "metadata": {},
   "outputs": [
    {
     "output_type": "execute_result",
     "data": {
      "text/plain": "   2  3  4  5\n0  0  0  0  0\n1  0  0  0  1\n2  0  0  0  0\n3  0  0  0  1\n4  1  0  0  0\n5  1  0  0  0\n6  1  0  0  0\n7  0  0  0  1\n8  0  0  0  1\n9  0  0  1  0",
      "text/html": "<div>\n<style scoped>\n    .dataframe tbody tr th:only-of-type {\n        vertical-align: middle;\n    }\n\n    .dataframe tbody tr th {\n        vertical-align: top;\n    }\n\n    .dataframe thead th {\n        text-align: right;\n    }\n</style>\n<table border=\"1\" class=\"dataframe\">\n  <thead>\n    <tr style=\"text-align: right;\">\n      <th></th>\n      <th>2</th>\n      <th>3</th>\n      <th>4</th>\n      <th>5</th>\n    </tr>\n  </thead>\n  <tbody>\n    <tr>\n      <th>0</th>\n      <td>0</td>\n      <td>0</td>\n      <td>0</td>\n      <td>0</td>\n    </tr>\n    <tr>\n      <th>1</th>\n      <td>0</td>\n      <td>0</td>\n      <td>0</td>\n      <td>1</td>\n    </tr>\n    <tr>\n      <th>2</th>\n      <td>0</td>\n      <td>0</td>\n      <td>0</td>\n      <td>0</td>\n    </tr>\n    <tr>\n      <th>3</th>\n      <td>0</td>\n      <td>0</td>\n      <td>0</td>\n      <td>1</td>\n    </tr>\n    <tr>\n      <th>4</th>\n      <td>1</td>\n      <td>0</td>\n      <td>0</td>\n      <td>0</td>\n    </tr>\n    <tr>\n      <th>5</th>\n      <td>1</td>\n      <td>0</td>\n      <td>0</td>\n      <td>0</td>\n    </tr>\n    <tr>\n      <th>6</th>\n      <td>1</td>\n      <td>0</td>\n      <td>0</td>\n      <td>0</td>\n    </tr>\n    <tr>\n      <th>7</th>\n      <td>0</td>\n      <td>0</td>\n      <td>0</td>\n      <td>1</td>\n    </tr>\n    <tr>\n      <th>8</th>\n      <td>0</td>\n      <td>0</td>\n      <td>0</td>\n      <td>1</td>\n    </tr>\n    <tr>\n      <th>9</th>\n      <td>0</td>\n      <td>0</td>\n      <td>1</td>\n      <td>0</td>\n    </tr>\n  </tbody>\n</table>\n</div>"
     },
     "metadata": {},
     "execution_count": 10
    }
   ],
   "source": [
    "# encoding the categorical variable\n",
    "margin = pd.get_dummies(data['margin'],drop_first=True)\n",
    "margin.head(10)"
   ]
  },
  {
   "cell_type": "code",
   "execution_count": 11,
   "metadata": {},
   "outputs": [
    {
     "output_type": "execute_result",
     "data": {
      "text/plain": "   2  3  4\n0  1  0  0\n1  0  1  0\n2  0  1  0\n3  1  0  0\n4  0  1  0\n5  0  1  0\n6  0  1  0\n7  0  1  0\n8  0  0  0\n9  0  1  0",
      "text/html": "<div>\n<style scoped>\n    .dataframe tbody tr th:only-of-type {\n        vertical-align: middle;\n    }\n\n    .dataframe tbody tr th {\n        vertical-align: top;\n    }\n\n    .dataframe thead th {\n        text-align: right;\n    }\n</style>\n<table border=\"1\" class=\"dataframe\">\n  <thead>\n    <tr style=\"text-align: right;\">\n      <th></th>\n      <th>2</th>\n      <th>3</th>\n      <th>4</th>\n    </tr>\n  </thead>\n  <tbody>\n    <tr>\n      <th>0</th>\n      <td>1</td>\n      <td>0</td>\n      <td>0</td>\n    </tr>\n    <tr>\n      <th>1</th>\n      <td>0</td>\n      <td>1</td>\n      <td>0</td>\n    </tr>\n    <tr>\n      <th>2</th>\n      <td>0</td>\n      <td>1</td>\n      <td>0</td>\n    </tr>\n    <tr>\n      <th>3</th>\n      <td>1</td>\n      <td>0</td>\n      <td>0</td>\n    </tr>\n    <tr>\n      <th>4</th>\n      <td>0</td>\n      <td>1</td>\n      <td>0</td>\n    </tr>\n    <tr>\n      <th>5</th>\n      <td>0</td>\n      <td>1</td>\n      <td>0</td>\n    </tr>\n    <tr>\n      <th>6</th>\n      <td>0</td>\n      <td>1</td>\n      <td>0</td>\n    </tr>\n    <tr>\n      <th>7</th>\n      <td>0</td>\n      <td>1</td>\n      <td>0</td>\n    </tr>\n    <tr>\n      <th>8</th>\n      <td>0</td>\n      <td>0</td>\n      <td>0</td>\n    </tr>\n    <tr>\n      <th>9</th>\n      <td>0</td>\n      <td>1</td>\n      <td>0</td>\n    </tr>\n  </tbody>\n</table>\n</div>"
     },
     "metadata": {},
     "execution_count": 11
    }
   ],
   "source": [
    "# encoding the categorical variable\n",
    "density = pd.get_dummies(data['density'],drop_first=True)\n",
    "density.head(10)"
   ]
  },
  {
   "cell_type": "code",
   "execution_count": 12,
   "metadata": {},
   "outputs": [
    {
     "output_type": "execute_result",
     "data": {
      "text/plain": "   age  severity\n0   43         1\n1   58         1\n2   28         0\n3   74         1\n4   65         0\n5   70         0\n6   42         0\n7   57         1\n8   60         1\n9   76         1",
      "text/html": "<div>\n<style scoped>\n    .dataframe tbody tr th:only-of-type {\n        vertical-align: middle;\n    }\n\n    .dataframe tbody tr th {\n        vertical-align: top;\n    }\n\n    .dataframe thead th {\n        text-align: right;\n    }\n</style>\n<table border=\"1\" class=\"dataframe\">\n  <thead>\n    <tr style=\"text-align: right;\">\n      <th></th>\n      <th>age</th>\n      <th>severity</th>\n    </tr>\n  </thead>\n  <tbody>\n    <tr>\n      <th>0</th>\n      <td>43</td>\n      <td>1</td>\n    </tr>\n    <tr>\n      <th>1</th>\n      <td>58</td>\n      <td>1</td>\n    </tr>\n    <tr>\n      <th>2</th>\n      <td>28</td>\n      <td>0</td>\n    </tr>\n    <tr>\n      <th>3</th>\n      <td>74</td>\n      <td>1</td>\n    </tr>\n    <tr>\n      <th>4</th>\n      <td>65</td>\n      <td>0</td>\n    </tr>\n    <tr>\n      <th>5</th>\n      <td>70</td>\n      <td>0</td>\n    </tr>\n    <tr>\n      <th>6</th>\n      <td>42</td>\n      <td>0</td>\n    </tr>\n    <tr>\n      <th>7</th>\n      <td>57</td>\n      <td>1</td>\n    </tr>\n    <tr>\n      <th>8</th>\n      <td>60</td>\n      <td>1</td>\n    </tr>\n    <tr>\n      <th>9</th>\n      <td>76</td>\n      <td>1</td>\n    </tr>\n  </tbody>\n</table>\n</div>"
     },
     "metadata": {},
     "execution_count": 12
    }
   ],
   "source": [
    "# dropping the categorical columns\n",
    "data.drop(['shape','margin','density'],axis=1,inplace=True)\n",
    "data.head(10)"
   ]
  },
  {
   "cell_type": "code",
   "execution_count": 13,
   "metadata": {},
   "outputs": [
    {
     "output_type": "execute_result",
     "data": {
      "text/plain": "   age  severity  2  3  4  2  3  4  5  2  3  4\n0   43         1  0  0  0  0  0  0  0  1  0  0\n1   58         1  0  0  1  0  0  0  1  0  1  0\n2   28         0  0  0  0  0  0  0  0  0  1  0\n3   74         1  0  0  0  0  0  0  1  1  0  0\n4   65         0  0  0  0  1  0  0  0  0  1  0\n5   70         0  1  0  0  1  0  0  0  0  1  0\n6   42         0  0  0  0  1  0  0  0  0  1  0\n7   57         1  0  0  0  0  0  0  1  0  1  0\n8   60         1  1  0  0  0  0  0  1  0  0  0\n9   76         1  0  0  0  0  0  1  0  0  1  0",
      "text/html": "<div>\n<style scoped>\n    .dataframe tbody tr th:only-of-type {\n        vertical-align: middle;\n    }\n\n    .dataframe tbody tr th {\n        vertical-align: top;\n    }\n\n    .dataframe thead th {\n        text-align: right;\n    }\n</style>\n<table border=\"1\" class=\"dataframe\">\n  <thead>\n    <tr style=\"text-align: right;\">\n      <th></th>\n      <th>age</th>\n      <th>severity</th>\n      <th>2</th>\n      <th>3</th>\n      <th>4</th>\n      <th>2</th>\n      <th>3</th>\n      <th>4</th>\n      <th>5</th>\n      <th>2</th>\n      <th>3</th>\n      <th>4</th>\n    </tr>\n  </thead>\n  <tbody>\n    <tr>\n      <th>0</th>\n      <td>43</td>\n      <td>1</td>\n      <td>0</td>\n      <td>0</td>\n      <td>0</td>\n      <td>0</td>\n      <td>0</td>\n      <td>0</td>\n      <td>0</td>\n      <td>1</td>\n      <td>0</td>\n      <td>0</td>\n    </tr>\n    <tr>\n      <th>1</th>\n      <td>58</td>\n      <td>1</td>\n      <td>0</td>\n      <td>0</td>\n      <td>1</td>\n      <td>0</td>\n      <td>0</td>\n      <td>0</td>\n      <td>1</td>\n      <td>0</td>\n      <td>1</td>\n      <td>0</td>\n    </tr>\n    <tr>\n      <th>2</th>\n      <td>28</td>\n      <td>0</td>\n      <td>0</td>\n      <td>0</td>\n      <td>0</td>\n      <td>0</td>\n      <td>0</td>\n      <td>0</td>\n      <td>0</td>\n      <td>0</td>\n      <td>1</td>\n      <td>0</td>\n    </tr>\n    <tr>\n      <th>3</th>\n      <td>74</td>\n      <td>1</td>\n      <td>0</td>\n      <td>0</td>\n      <td>0</td>\n      <td>0</td>\n      <td>0</td>\n      <td>0</td>\n      <td>1</td>\n      <td>1</td>\n      <td>0</td>\n      <td>0</td>\n    </tr>\n    <tr>\n      <th>4</th>\n      <td>65</td>\n      <td>0</td>\n      <td>0</td>\n      <td>0</td>\n      <td>0</td>\n      <td>1</td>\n      <td>0</td>\n      <td>0</td>\n      <td>0</td>\n      <td>0</td>\n      <td>1</td>\n      <td>0</td>\n    </tr>\n    <tr>\n      <th>5</th>\n      <td>70</td>\n      <td>0</td>\n      <td>1</td>\n      <td>0</td>\n      <td>0</td>\n      <td>1</td>\n      <td>0</td>\n      <td>0</td>\n      <td>0</td>\n      <td>0</td>\n      <td>1</td>\n      <td>0</td>\n    </tr>\n    <tr>\n      <th>6</th>\n      <td>42</td>\n      <td>0</td>\n      <td>0</td>\n      <td>0</td>\n      <td>0</td>\n      <td>1</td>\n      <td>0</td>\n      <td>0</td>\n      <td>0</td>\n      <td>0</td>\n      <td>1</td>\n      <td>0</td>\n    </tr>\n    <tr>\n      <th>7</th>\n      <td>57</td>\n      <td>1</td>\n      <td>0</td>\n      <td>0</td>\n      <td>0</td>\n      <td>0</td>\n      <td>0</td>\n      <td>0</td>\n      <td>1</td>\n      <td>0</td>\n      <td>1</td>\n      <td>0</td>\n    </tr>\n    <tr>\n      <th>8</th>\n      <td>60</td>\n      <td>1</td>\n      <td>1</td>\n      <td>0</td>\n      <td>0</td>\n      <td>0</td>\n      <td>0</td>\n      <td>0</td>\n      <td>1</td>\n      <td>0</td>\n      <td>0</td>\n      <td>0</td>\n    </tr>\n    <tr>\n      <th>9</th>\n      <td>76</td>\n      <td>1</td>\n      <td>0</td>\n      <td>0</td>\n      <td>0</td>\n      <td>0</td>\n      <td>0</td>\n      <td>1</td>\n      <td>0</td>\n      <td>0</td>\n      <td>1</td>\n      <td>0</td>\n    </tr>\n  </tbody>\n</table>\n</div>"
     },
     "metadata": {},
     "execution_count": 13
    }
   ],
   "source": [
    "# concatenating the dummy\n",
    "data = pd.concat([data,shape,margin,density],axis=1)\n",
    "data.head(10)"
   ]
  },
  {
   "cell_type": "code",
   "execution_count": 14,
   "metadata": {},
   "outputs": [],
   "source": [
    "# splitting the independent and dependent variables\n",
    "x = data.drop('severity',axis=1)\n",
    "y = data['severity']"
   ]
  },
  {
   "cell_type": "code",
   "execution_count": 15,
   "metadata": {},
   "outputs": [],
   "source": [
    "x_train,x_test,y_train,y_test=train_test_split(x,y,test_size=1/31,random_state=0)"
   ]
  },
  {
   "cell_type": "code",
   "execution_count": 16,
   "metadata": {},
   "outputs": [],
   "source": [
    "sc = StandardScaler()\n",
    "x_train = sc.fit_transform(x_train)\n",
    "x_test = sc.transform(x_test)"
   ]
  },
  {
   "cell_type": "code",
   "execution_count": 17,
   "metadata": {
    "tags": []
   },
   "outputs": [
    {
     "output_type": "execute_result",
     "data": {
      "text/plain": "83.87096774193549"
     },
     "metadata": {},
     "execution_count": 17
    }
   ],
   "source": [
    "# applying the logistic regression\n",
    "model = LogisticRegression()\n",
    "model.fit(x_train,y_train)\n",
    "predict = model.predict(x_test)\n",
    "accuracy_score(y_test,predict)*100"
   ]
  },
  {
   "cell_type": "code",
   "execution_count": 18,
   "metadata": {},
   "outputs": [
    {
     "output_type": "execute_result",
     "data": {
      "text/plain": "87.09677419354838"
     },
     "metadata": {},
     "execution_count": 18
    }
   ],
   "source": [
    "# applying the knn\n",
    "model = KNeighborsClassifier(n_neighbors=5,p=2,metric='minkowski')\n",
    "model.fit(x_train,y_train)\n",
    "predict = model.predict(x_test)\n",
    "accuracy_score(y_test,predict)*100"
   ]
  },
  {
   "cell_type": "code",
   "execution_count": 19,
   "metadata": {},
   "outputs": [
    {
     "output_type": "execute_result",
     "data": {
      "text/plain": "87.09677419354838"
     },
     "metadata": {},
     "execution_count": 19
    }
   ],
   "source": [
    "# applying the svm\n",
    "model = SVC(kernel='linear')\n",
    "model.fit(x_train,y_train)\n",
    "predict = model.predict(x_test)\n",
    "accuracy_score(y_test,predict)*100"
   ]
  },
  {
   "cell_type": "code",
   "execution_count": 20,
   "metadata": {},
   "outputs": [
    {
     "output_type": "execute_result",
     "data": {
      "text/plain": "77.41935483870968"
     },
     "metadata": {},
     "execution_count": 20
    }
   ],
   "source": [
    "# applying the decision tree\n",
    "model = DecisionTreeClassifier(criterion='entropy',random_state=0)\n",
    "model.fit(x_train,y_train)\n",
    "predict = model.predict(x_test)\n",
    "accuracy_score(y_test,predict)*100"
   ]
  },
  {
   "cell_type": "code",
   "execution_count": 21,
   "metadata": {},
   "outputs": [
    {
     "output_type": "execute_result",
     "data": {
      "text/plain": "83.87096774193549"
     },
     "metadata": {},
     "execution_count": 21
    }
   ],
   "source": [
    "# applying the random forest\n",
    "model = RandomForestClassifier(n_estimators=100,criterion=\"entropy\")\n",
    "model.fit(x_train,y_train)\n",
    "predict = model.predict(x_test)\n",
    "accuracy_score(y_test,predict)*100"
   ]
  },
  {
   "cell_type": "code",
   "execution_count": 22,
   "metadata": {},
   "outputs": [
    {
     "output_type": "execute_result",
     "data": {
      "text/plain": "77.41935483870968"
     },
     "metadata": {},
     "execution_count": 22
    }
   ],
   "source": [
    "# applying the Naives Bayes\n",
    "model = GaussianNB()\n",
    "model.fit(x_train,y_train)\n",
    "predict = model.predict(x_test)\n",
    "accuracy_score(y_test,predict)*100"
   ]
  },
  {
   "cell_type": "code",
   "execution_count": 23,
   "metadata": {
    "tags": []
   },
   "outputs": [
    {
     "output_type": "stream",
     "name": "stdout",
     "text": "Epoch 1/100\n929/929 [==============================] - 3s 4ms/step - loss: 0.5661 - accuracy: 0.7298 - val_loss: 0.3702 - val_accuracy: 0.8387\nEpoch 2/100\n929/929 [==============================] - 3s 4ms/step - loss: 0.4574 - accuracy: 0.8095 - val_loss: 0.3520 - val_accuracy: 0.8387\nEpoch 3/100\n929/929 [==============================] - 3s 3ms/step - loss: 0.4509 - accuracy: 0.8062 - val_loss: 0.3516 - val_accuracy: 0.8387\nEpoch 4/100\n929/929 [==============================] - 3s 3ms/step - loss: 0.4498 - accuracy: 0.8127 - val_loss: 0.3459 - val_accuracy: 0.8710\nEpoch 5/100\n929/929 [==============================] - 3s 3ms/step - loss: 0.4477 - accuracy: 0.8127 - val_loss: 0.3435 - val_accuracy: 0.8710\nEpoch 6/100\n929/929 [==============================] - 3s 3ms/step - loss: 0.4457 - accuracy: 0.8095 - val_loss: 0.3509 - val_accuracy: 0.8710\nEpoch 7/100\n929/929 [==============================] - 3s 3ms/step - loss: 0.4458 - accuracy: 0.8159 - val_loss: 0.3526 - val_accuracy: 0.8387\nEpoch 8/100\n929/929 [==============================] - 3s 4ms/step - loss: 0.4437 - accuracy: 0.8084 - val_loss: 0.3448 - val_accuracy: 0.8387\nEpoch 9/100\n929/929 [==============================] - 3s 4ms/step - loss: 0.4456 - accuracy: 0.8116 - val_loss: 0.3486 - val_accuracy: 0.8387\nEpoch 10/100\n929/929 [==============================] - 4s 4ms/step - loss: 0.4456 - accuracy: 0.8105 - val_loss: 0.3567 - val_accuracy: 0.8387\nEpoch 11/100\n929/929 [==============================] - 3s 3ms/step - loss: 0.4446 - accuracy: 0.8127 - val_loss: 0.3538 - val_accuracy: 0.8387\nEpoch 12/100\n929/929 [==============================] - 3s 4ms/step - loss: 0.4431 - accuracy: 0.8127 - val_loss: 0.3416 - val_accuracy: 0.8387\nEpoch 13/100\n929/929 [==============================] - 3s 3ms/step - loss: 0.4449 - accuracy: 0.8138 - val_loss: 0.3452 - val_accuracy: 0.8387\nEpoch 14/100\n929/929 [==============================] - 3s 4ms/step - loss: 0.4434 - accuracy: 0.8095 - val_loss: 0.3491 - val_accuracy: 0.8387\nEpoch 15/100\n929/929 [==============================] - 4s 4ms/step - loss: 0.4431 - accuracy: 0.8127 - val_loss: 0.3405 - val_accuracy: 0.8387\nEpoch 16/100\n929/929 [==============================] - 3s 4ms/step - loss: 0.4420 - accuracy: 0.8127 - val_loss: 0.3448 - val_accuracy: 0.8387\nEpoch 17/100\n929/929 [==============================] - 3s 4ms/step - loss: 0.4433 - accuracy: 0.8127 - val_loss: 0.3429 - val_accuracy: 0.8387\nEpoch 18/100\n929/929 [==============================] - 3s 4ms/step - loss: 0.4412 - accuracy: 0.8181 - val_loss: 0.3362 - val_accuracy: 0.8387\nEpoch 19/100\n929/929 [==============================] - 3s 4ms/step - loss: 0.4428 - accuracy: 0.8052 - val_loss: 0.3445 - val_accuracy: 0.8387\nEpoch 20/100\n929/929 [==============================] - 3s 4ms/step - loss: 0.4402 - accuracy: 0.8062 - val_loss: 0.3602 - val_accuracy: 0.8710\nEpoch 21/100\n929/929 [==============================] - 3s 3ms/step - loss: 0.4417 - accuracy: 0.8095 - val_loss: 0.3480 - val_accuracy: 0.8710\nEpoch 22/100\n929/929 [==============================] - 3s 3ms/step - loss: 0.4417 - accuracy: 0.8159 - val_loss: 0.3434 - val_accuracy: 0.8387\nEpoch 23/100\n929/929 [==============================] - 3s 4ms/step - loss: 0.4418 - accuracy: 0.8149 - val_loss: 0.3456 - val_accuracy: 0.8387\nEpoch 24/100\n929/929 [==============================] - 3s 4ms/step - loss: 0.4412 - accuracy: 0.8138 - val_loss: 0.3326 - val_accuracy: 0.8387\nEpoch 25/100\n929/929 [==============================] - 3s 3ms/step - loss: 0.4405 - accuracy: 0.8116 - val_loss: 0.3395 - val_accuracy: 0.8387\nEpoch 26/100\n929/929 [==============================] - 3s 3ms/step - loss: 0.4418 - accuracy: 0.8105 - val_loss: 0.3436 - val_accuracy: 0.8387\nEpoch 27/100\n929/929 [==============================] - 3s 4ms/step - loss: 0.4411 - accuracy: 0.8105 - val_loss: 0.3531 - val_accuracy: 0.8387\nEpoch 28/100\n929/929 [==============================] - 3s 4ms/step - loss: 0.4403 - accuracy: 0.8105 - val_loss: 0.3418 - val_accuracy: 0.8387\nEpoch 29/100\n929/929 [==============================] - 3s 4ms/step - loss: 0.4402 - accuracy: 0.8138 - val_loss: 0.3481 - val_accuracy: 0.8710\nEpoch 30/100\n929/929 [==============================] - 3s 4ms/step - loss: 0.4391 - accuracy: 0.8138 - val_loss: 0.3381 - val_accuracy: 0.8387\nEpoch 31/100\n929/929 [==============================] - 3s 4ms/step - loss: 0.4396 - accuracy: 0.8073 - val_loss: 0.3357 - val_accuracy: 0.8387\nEpoch 32/100\n929/929 [==============================] - 3s 3ms/step - loss: 0.4393 - accuracy: 0.8105 - val_loss: 0.3475 - val_accuracy: 0.8387\nEpoch 33/100\n929/929 [==============================] - 3s 4ms/step - loss: 0.4381 - accuracy: 0.8159 - val_loss: 0.3583 - val_accuracy: 0.8387\nEpoch 34/100\n929/929 [==============================] - 3s 3ms/step - loss: 0.4386 - accuracy: 0.8192 - val_loss: 0.3481 - val_accuracy: 0.8710\nEpoch 35/100\n929/929 [==============================] - 3s 3ms/step - loss: 0.4390 - accuracy: 0.8181 - val_loss: 0.3437 - val_accuracy: 0.8387\nEpoch 36/100\n929/929 [==============================] - 3s 3ms/step - loss: 0.4388 - accuracy: 0.8127 - val_loss: 0.3483 - val_accuracy: 0.8387\nEpoch 37/100\n929/929 [==============================] - 2s 3ms/step - loss: 0.4368 - accuracy: 0.8127 - val_loss: 0.3362 - val_accuracy: 0.8387\nEpoch 38/100\n929/929 [==============================] - 2s 2ms/step - loss: 0.4359 - accuracy: 0.8159 - val_loss: 0.3594 - val_accuracy: 0.8387\nEpoch 39/100\n929/929 [==============================] - 3s 3ms/step - loss: 0.4369 - accuracy: 0.8138 - val_loss: 0.3489 - val_accuracy: 0.8387\nEpoch 40/100\n929/929 [==============================] - 3s 4ms/step - loss: 0.4375 - accuracy: 0.8170 - val_loss: 0.3439 - val_accuracy: 0.8387\nEpoch 41/100\n929/929 [==============================] - 3s 3ms/step - loss: 0.4383 - accuracy: 0.8159 - val_loss: 0.3439 - val_accuracy: 0.8387\nEpoch 42/100\n929/929 [==============================] - 3s 3ms/step - loss: 0.4372 - accuracy: 0.8149 - val_loss: 0.3527 - val_accuracy: 0.8710\nEpoch 43/100\n929/929 [==============================] - 3s 3ms/step - loss: 0.4380 - accuracy: 0.8116 - val_loss: 0.3476 - val_accuracy: 0.8710\nEpoch 44/100\n929/929 [==============================] - 3s 3ms/step - loss: 0.4363 - accuracy: 0.8170 - val_loss: 0.3306 - val_accuracy: 0.8387\nEpoch 45/100\n929/929 [==============================] - 3s 3ms/step - loss: 0.4366 - accuracy: 0.8149 - val_loss: 0.3557 - val_accuracy: 0.8710\nEpoch 46/100\n929/929 [==============================] - 3s 3ms/step - loss: 0.4369 - accuracy: 0.8116 - val_loss: 0.3508 - val_accuracy: 0.8387\nEpoch 47/100\n929/929 [==============================] - 3s 3ms/step - loss: 0.4365 - accuracy: 0.8159 - val_loss: 0.3425 - val_accuracy: 0.8387\nEpoch 48/100\n929/929 [==============================] - 3s 3ms/step - loss: 0.4358 - accuracy: 0.8149 - val_loss: 0.3406 - val_accuracy: 0.8710\nEpoch 49/100\n929/929 [==============================] - 3s 3ms/step - loss: 0.4360 - accuracy: 0.8159 - val_loss: 0.3405 - val_accuracy: 0.8710\nEpoch 50/100\n929/929 [==============================] - 3s 4ms/step - loss: 0.4363 - accuracy: 0.8127 - val_loss: 0.3462 - val_accuracy: 0.8710\nEpoch 51/100\n929/929 [==============================] - 3s 4ms/step - loss: 0.4351 - accuracy: 0.8170 - val_loss: 0.3346 - val_accuracy: 0.8710\nEpoch 52/100\n929/929 [==============================] - 3s 3ms/step - loss: 0.4353 - accuracy: 0.8159 - val_loss: 0.3312 - val_accuracy: 0.8387\nEpoch 53/100\n929/929 [==============================] - 3s 3ms/step - loss: 0.4365 - accuracy: 0.8159 - val_loss: 0.3421 - val_accuracy: 0.8710\nEpoch 54/100\n929/929 [==============================] - 2s 2ms/step - loss: 0.4358 - accuracy: 0.8181 - val_loss: 0.3396 - val_accuracy: 0.8710\nEpoch 55/100\n929/929 [==============================] - 2s 2ms/step - loss: 0.4344 - accuracy: 0.8095 - val_loss: 0.3319 - val_accuracy: 0.8387\nEpoch 56/100\n929/929 [==============================] - 2s 2ms/step - loss: 0.4355 - accuracy: 0.8116 - val_loss: 0.3296 - val_accuracy: 0.8710\nEpoch 57/100\n929/929 [==============================] - 2s 2ms/step - loss: 0.4358 - accuracy: 0.8192 - val_loss: 0.3353 - val_accuracy: 0.8710\nEpoch 58/100\n929/929 [==============================] - 2s 2ms/step - loss: 0.4345 - accuracy: 0.8149 - val_loss: 0.3445 - val_accuracy: 0.8710\nEpoch 59/100\n929/929 [==============================] - 2s 2ms/step - loss: 0.4334 - accuracy: 0.8192 - val_loss: 0.3266 - val_accuracy: 0.8387\nEpoch 60/100\n929/929 [==============================] - 2s 2ms/step - loss: 0.4352 - accuracy: 0.8192 - val_loss: 0.3378 - val_accuracy: 0.8710\nEpoch 61/100\n929/929 [==============================] - 2s 2ms/step - loss: 0.4347 - accuracy: 0.8159 - val_loss: 0.3371 - val_accuracy: 0.8710\nEpoch 62/100\n929/929 [==============================] - 2s 3ms/step - loss: 0.4336 - accuracy: 0.8170 - val_loss: 0.3350 - val_accuracy: 0.8710\nEpoch 63/100\n929/929 [==============================] - 3s 4ms/step - loss: 0.4347 - accuracy: 0.8170 - val_loss: 0.3391 - val_accuracy: 0.8710\nEpoch 64/100\n929/929 [==============================] - 4s 4ms/step - loss: 0.4340 - accuracy: 0.8127 - val_loss: 0.3479 - val_accuracy: 0.8710\nEpoch 65/100\n929/929 [==============================] - 3s 3ms/step - loss: 0.4340 - accuracy: 0.8149 - val_loss: 0.3318 - val_accuracy: 0.8710\nEpoch 66/100\n929/929 [==============================] - 3s 4ms/step - loss: 0.4341 - accuracy: 0.8127 - val_loss: 0.3355 - val_accuracy: 0.8710\nEpoch 67/100\n929/929 [==============================] - 3s 4ms/step - loss: 0.4331 - accuracy: 0.8192 - val_loss: 0.3218 - val_accuracy: 0.8710\nEpoch 68/100\n929/929 [==============================] - 4s 4ms/step - loss: 0.4339 - accuracy: 0.8170 - val_loss: 0.3321 - val_accuracy: 0.8710\nEpoch 69/100\n929/929 [==============================] - 3s 3ms/step - loss: 0.4332 - accuracy: 0.8138 - val_loss: 0.3324 - val_accuracy: 0.8710\nEpoch 70/100\n929/929 [==============================] - 3s 4ms/step - loss: 0.4314 - accuracy: 0.8159 - val_loss: 0.3514 - val_accuracy: 0.8710\nEpoch 71/100\n929/929 [==============================] - 4s 4ms/step - loss: 0.4340 - accuracy: 0.8159 - val_loss: 0.3312 - val_accuracy: 0.8710\nEpoch 72/100\n929/929 [==============================] - 3s 4ms/step - loss: 0.4332 - accuracy: 0.8149 - val_loss: 0.3335 - val_accuracy: 0.8710\nEpoch 73/100\n929/929 [==============================] - 3s 4ms/step - loss: 0.4337 - accuracy: 0.8138 - val_loss: 0.3309 - val_accuracy: 0.8710\nEpoch 74/100\n929/929 [==============================] - 3s 4ms/step - loss: 0.4298 - accuracy: 0.8159 - val_loss: 0.3228 - val_accuracy: 0.8387\nEpoch 75/100\n929/929 [==============================] - 3s 3ms/step - loss: 0.4326 - accuracy: 0.8202 - val_loss: 0.3361 - val_accuracy: 0.8710\nEpoch 76/100\n929/929 [==============================] - 3s 4ms/step - loss: 0.4323 - accuracy: 0.8192 - val_loss: 0.3313 - val_accuracy: 0.8710\nEpoch 77/100\n929/929 [==============================] - 3s 3ms/step - loss: 0.4311 - accuracy: 0.8192 - val_loss: 0.3369 - val_accuracy: 0.8710\nEpoch 78/100\n929/929 [==============================] - 3s 3ms/step - loss: 0.4332 - accuracy: 0.8149 - val_loss: 0.3229 - val_accuracy: 0.8710\nEpoch 79/100\n929/929 [==============================] - 3s 3ms/step - loss: 0.4333 - accuracy: 0.8159 - val_loss: 0.3312 - val_accuracy: 0.8710\nEpoch 80/100\n929/929 [==============================] - 3s 4ms/step - loss: 0.4328 - accuracy: 0.8181 - val_loss: 0.3264 - val_accuracy: 0.8710\nEpoch 81/100\n929/929 [==============================] - 3s 4ms/step - loss: 0.4325 - accuracy: 0.8127 - val_loss: 0.3295 - val_accuracy: 0.8710\nEpoch 82/100\n929/929 [==============================] - 3s 3ms/step - loss: 0.4313 - accuracy: 0.8202 - val_loss: 0.3218 - val_accuracy: 0.8710\nEpoch 83/100\n929/929 [==============================] - 3s 4ms/step - loss: 0.4312 - accuracy: 0.8192 - val_loss: 0.3229 - val_accuracy: 0.8710\nEpoch 84/100\n929/929 [==============================] - 3s 4ms/step - loss: 0.4306 - accuracy: 0.8149 - val_loss: 0.3172 - val_accuracy: 0.8710\nEpoch 85/100\n929/929 [==============================] - 3s 4ms/step - loss: 0.4323 - accuracy: 0.8170 - val_loss: 0.3241 - val_accuracy: 0.8710\nEpoch 86/100\n929/929 [==============================] - 3s 4ms/step - loss: 0.4316 - accuracy: 0.8159 - val_loss: 0.3303 - val_accuracy: 0.8710\nEpoch 87/100\n929/929 [==============================] - 3s 3ms/step - loss: 0.4318 - accuracy: 0.8213 - val_loss: 0.3430 - val_accuracy: 0.8710\nEpoch 88/100\n929/929 [==============================] - 3s 4ms/step - loss: 0.4318 - accuracy: 0.8192 - val_loss: 0.3320 - val_accuracy: 0.8710\nEpoch 89/100\n929/929 [==============================] - 3s 3ms/step - loss: 0.4305 - accuracy: 0.8224 - val_loss: 0.3356 - val_accuracy: 0.8710\nEpoch 90/100\n929/929 [==============================] - 3s 4ms/step - loss: 0.4303 - accuracy: 0.8192 - val_loss: 0.3372 - val_accuracy: 0.8710\nEpoch 91/100\n929/929 [==============================] - 3s 3ms/step - loss: 0.4306 - accuracy: 0.8170 - val_loss: 0.3361 - val_accuracy: 0.8710\nEpoch 92/100\n929/929 [==============================] - 3s 4ms/step - loss: 0.4313 - accuracy: 0.8116 - val_loss: 0.3252 - val_accuracy: 0.8710\nEpoch 93/100\n929/929 [==============================] - 3s 4ms/step - loss: 0.4318 - accuracy: 0.8202 - val_loss: 0.3324 - val_accuracy: 0.8710\nEpoch 94/100\n929/929 [==============================] - 3s 4ms/step - loss: 0.4314 - accuracy: 0.8213 - val_loss: 0.3420 - val_accuracy: 0.8710\nEpoch 95/100\n929/929 [==============================] - 3s 3ms/step - loss: 0.4309 - accuracy: 0.8159 - val_loss: 0.3347 - val_accuracy: 0.8710\nEpoch 96/100\n929/929 [==============================] - 3s 4ms/step - loss: 0.4297 - accuracy: 0.8202 - val_loss: 0.3293 - val_accuracy: 0.8710\nEpoch 97/100\n929/929 [==============================] - 4s 4ms/step - loss: 0.4301 - accuracy: 0.8192 - val_loss: 0.3374 - val_accuracy: 0.8710\nEpoch 98/100\n929/929 [==============================] - 3s 3ms/step - loss: 0.4299 - accuracy: 0.8138 - val_loss: 0.3327 - val_accuracy: 0.8710\nEpoch 99/100\n929/929 [==============================] - 3s 3ms/step - loss: 0.4303 - accuracy: 0.8202 - val_loss: 0.3280 - val_accuracy: 0.8710\nEpoch 100/100\n929/929 [==============================] - 3s 4ms/step - loss: 0.4302 - accuracy: 0.8192 - val_loss: 0.3402 - val_accuracy: 0.8710\n"
    },
    {
     "output_type": "execute_result",
     "data": {
      "text/plain": "<tensorflow.python.keras.callbacks.History at 0x7f11647a5dc0>"
     },
     "metadata": {},
     "execution_count": 23
    }
   ],
   "source": [
    "# applying neural networks\n",
    "model = Sequential()\n",
    "model.add(Dense(6,activation='relu',kernel_initializer='uniform',input_dim=11))\n",
    "model.add(Dense(6,kernel_initializer='uniform',activation='relu'))\n",
    "model.add(Dense(1,activation='sigmoid',kernel_initializer='uniform'))\n",
    "model.compile(optimizer='adam',loss='binary_crossentropy',metrics=['accuracy'])\n",
    "model.fit(x_train,y_train,batch_size=1,epochs=100,validation_data=(x_test,y_test))"
   ]
  },
  {
   "cell_type": "code",
   "execution_count": 24,
   "metadata": {},
   "outputs": [
    {
     "output_type": "execute_result",
     "data": {
      "text/plain": "87.09677419354838"
     },
     "metadata": {},
     "execution_count": 24
    }
   ],
   "source": [
    "y_pred = model.predict(x_test)\n",
    "y_pred = y_pred > 0.5\n",
    "accuracy_score(y_pred,y_test)*100"
   ]
  },
  {
   "cell_type": "code",
   "execution_count": null,
   "metadata": {},
   "outputs": [],
   "source": []
  }
 ]
}